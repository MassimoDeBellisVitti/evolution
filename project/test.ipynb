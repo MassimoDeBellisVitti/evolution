{
 "cells": [
  {
   "cell_type": "markdown",
   "id": "9d0512dd",
   "metadata": {},
   "source": [
    "# Neuroevolution on EvoGym"
   ]
  },
  {
   "cell_type": "markdown",
   "id": "a7a7807c",
   "metadata": {},
   "source": [
    "## Getting started"
   ]
  },
  {
   "cell_type": "markdown",
   "id": "4ed4dd78",
   "metadata": {},
   "source": [
    "Check that the following line can run. If so, you have evogym installed! Otherwise, you need to install it."
   ]
  },
  {
   "cell_type": "code",
   "execution_count": 35,
   "id": "c42ac75c",
   "metadata": {},
   "outputs": [],
   "source": [
    "from evogym import sample_robot\n",
    "import torch\n",
    "import torch.nn as nn\n",
    "import torch.nn.functional as F\n",
    "import numpy as np\n",
    "import copy\n",
    "import matplotlib.pyplot as plt\n",
    "from matplotlib import animation\n",
    "import gymnasium as gym\n",
    "import evogym.envs\n",
    "from evogym import sample_robot\n",
    "from evogym.utils import get_full_connectivity\n",
    "from tqdm import tqdm\n",
    "import ray\n",
    "import numpy as np\n",
    "import matplotlib.pyplot as plt\n",
    "from tqdm import tqdm\n",
    "\n",
    "from ribs.archives import GridArchive\n",
    "from ribs.emitters import EvolutionStrategyEmitter\n",
    "from ribs.schedulers import Scheduler"
   ]
  },
  {
   "cell_type": "code",
   "execution_count": 17,
   "id": "f0241df7",
   "metadata": {},
   "outputs": [],
   "source": [
    "import gymnasium as gym\n",
    "import evogym.envs\n",
    "\n",
    "class EvoGymEnv:\n",
    "    def __init__(self, env_name, robot):\n",
    "        self.env = gym.make(env_name, body=robot)\n",
    "        self.env_name = env_name\n",
    "        self.robot = robot\n",
    "        self.action_space = self.env.action_space\n",
    "        self.observation_space = self.env.observation_space\n",
    "\n",
    "    def reset(self):\n",
    "        return self.env.reset()\n",
    "\n",
    "    def step(self, action):\n",
    "        obs, reward, done, trunc, info = self.env.step(action)\n",
    "        return obs, reward, done, trunc, info\n",
    "\n",
    "    def close(self):\n",
    "        self.env.close()"
   ]
  },
  {
   "cell_type": "markdown",
   "id": "bea2df57",
   "metadata": {},
   "source": [
    "## Agent"
   ]
  },
  {
   "cell_type": "code",
   "execution_count": 18,
   "id": "a5c8da07",
   "metadata": {},
   "outputs": [],
   "source": [
    "class Network(nn.Module):\n",
    "    def __init__(self, n_in, h_size, n_out):\n",
    "        super().__init__()\n",
    "        self.fc1 = nn.Linear(n_in, h_size)\n",
    "        self.fc2 = nn.Linear(h_size, h_size)\n",
    "        self.fc3 = nn.Linear(h_size, n_out)\n",
    " \n",
    "        self.n_out = n_out\n",
    "\n",
    "    def reset(self):\n",
    "        pass\n",
    "    \n",
    "    def forward(self, x):\n",
    "        x = self.fc1(x)\n",
    "        x = F.relu(x)\n",
    "\n",
    "        x = self.fc2(x)\n",
    "        x = F.relu(x)\n",
    "\n",
    "        x = self.fc3(x)\n",
    "        return x"
   ]
  },
  {
   "cell_type": "code",
   "execution_count": 19,
   "id": "5c12e168",
   "metadata": {},
   "outputs": [],
   "source": [
    "class Agent:\n",
    "    def __init__(self, Net, config, genes = None):\n",
    "        self.config = config\n",
    "        self.Net = Net\n",
    "        self.model = None\n",
    "        self.fitness = None\n",
    "\n",
    "        self.device = torch.device(\n",
    "            \"cuda\" if torch.cuda.is_available() else \"cpu\")\n",
    "\n",
    "        self.make_network()\n",
    "        if genes is not None:\n",
    "            self.genes = genes\n",
    "\n",
    "    def __repr__(self):  # pragma: no cover\n",
    "        return f\"Agent {self.model} > fitness={self.fitness}\"\n",
    "\n",
    "    def __str__(self):  # pragma: no cover\n",
    "        return self.__repr__()\n",
    "\n",
    "    def make_network(self):\n",
    "        n_in = self.config[\"n_in\"]\n",
    "        h_size = self.config[\"h_size\"]\n",
    "        n_out = self.config[\"n_out\"]\n",
    "        self.model = self.Net(n_in, h_size, n_out).to(self.device).double()\n",
    "        return self\n",
    "\n",
    "    @property\n",
    "    def genes(self):\n",
    "        if self.model is None:\n",
    "            return None\n",
    "        with torch.no_grad():\n",
    "            params = self.model.parameters()\n",
    "            vec = torch.nn.utils.parameters_to_vector(params)\n",
    "        return vec.cpu().double().numpy()\n",
    "\n",
    "    @genes.setter\n",
    "    def genes(self, params):\n",
    "        if self.model is None:\n",
    "            self.make_network()\n",
    "        assert len(params) == len(\n",
    "            self.genes), \"Genome size does not fit the network size\"\n",
    "        if np.isnan(params).any():\n",
    "            raise\n",
    "        a = torch.tensor(params, device=self.device)\n",
    "        torch.nn.utils.vector_to_parameters(a, self.model.parameters())\n",
    "        self.model = self.model.to(self.device).double()\n",
    "        self.fitness = None\n",
    "        return self\n",
    "\n",
    "    def mutate_ga(self):\n",
    "        genes = self.genes\n",
    "        n = len(genes)\n",
    "        f = np.random.choice([False, True], size=n, p=[1/n, 1-1/n])\n",
    "        \n",
    "        new_genes = np.empty(n)\n",
    "        new_genes[f] = genes[f]\n",
    "        noise = np.random.randn(n-sum(f))\n",
    "        new_genes[~f] = noise\n",
    "        return new_genes\n",
    "\n",
    "    def act(self, obs):\n",
    "        # continuous actions\n",
    "        with torch.no_grad():\n",
    "            x = torch.tensor(obs).double().unsqueeze(0).to(self.device)\n",
    "            actions = self.model(x).cpu().detach().numpy()\n",
    "        return actions\n"
   ]
  },
  {
   "cell_type": "markdown",
   "id": "d121e2d5",
   "metadata": {},
   "source": [
    "## Environment"
   ]
  },
  {
   "cell_type": "code",
   "execution_count": 20,
   "id": "82ff4816",
   "metadata": {},
   "outputs": [],
   "source": [
    "def make_env(env_name, seed=None, robot=None, **kwargs):\n",
    "    if robot is None: \n",
    "        env = gym.make(env_name)\n",
    "    else:\n",
    "        connections = get_full_connectivity(robot)\n",
    "        env = gym.make(env_name, body=robot)\n",
    "    env.robot = robot\n",
    "    if seed is not None:\n",
    "        env.seed(seed)\n",
    "        \n",
    "    return env"
   ]
  },
  {
   "cell_type": "code",
   "execution_count": 21,
   "id": "d12b9618",
   "metadata": {},
   "outputs": [],
   "source": [
    "def evaluate(agent, env, max_steps=500, render=False):\n",
    "    obs, i = env.reset()\n",
    "    agent.model.reset()\n",
    "    reward = 0\n",
    "    steps = 0\n",
    "    done = False\n",
    "    while not done and steps < max_steps:\n",
    "        if render:\n",
    "            env.render()\n",
    "        action = agent.act(obs)\n",
    "        obs, r, done, trunc, _ = env.step(action)\n",
    "        reward += r\n",
    "        steps += 1\n",
    "    return reward"
   ]
  },
  {
   "cell_type": "code",
   "execution_count": 22,
   "id": "04cd71d6",
   "metadata": {},
   "outputs": [],
   "source": [
    "def get_cfg(env_name, robot=None):\n",
    "    env = make_env(env_name, robot=walker)\n",
    "    cfg = {\n",
    "        \"n_in\": env.observation_space.shape[0],\n",
    "        \"h_size\": 32,\n",
    "        \"n_out\": env.action_space.shape[0],\n",
    "    }\n",
    "    env.close()\n",
    "    return cfg"
   ]
  },
  {
   "cell_type": "code",
   "execution_count": 23,
   "id": "07089863",
   "metadata": {},
   "outputs": [],
   "source": [
    "def mp_eval(a, cfg):\n",
    "    env = make_env(cfg[\"env_name\"], robot=cfg[\"robot\"])\n",
    "    fit = evaluate(a, env, max_steps=cfg[\"max_steps\"])\n",
    "    env.close()\n",
    "    return fit"
   ]
  },
  {
   "cell_type": "code",
   "execution_count": 48,
   "id": "138687b7",
   "metadata": {},
   "outputs": [],
   "source": [
    "def save_solution(a, cfg, name=\"solution.json\", algo_name=None):\n",
    "    save_cfg = {}\n",
    "    for i in [\"env_name\", \"robot\", \"n_in\", \"h_size\", \"n_out\"]:\n",
    "        assert i in cfg, f\"{i} not in config\"\n",
    "        save_cfg[i] = cfg[i]\n",
    "    save_cfg[\"robot\"] = cfg[\"robot\"].tolist()\n",
    "    save_cfg[\"genes\"] = a.genes.tolist()\n",
    "    save_cfg[\"fitness\"] = float(a.fitness)\n",
    "\n",
    "    # Extra parameters\n",
    "    save_cfg[\"generations\"] = cfg.get(\"generations\")\n",
    "    save_cfg[\"max_steps\"] = cfg.get(\"max_steps\")\n",
    "    save_cfg[\"lambda\"] = cfg.get(\"lambda\")\n",
    "    save_cfg[\"algorithm\"] = cfg.get(\"algorithm\")\n",
    "    save_cfg[\"seed\"] = cfg.get(\"seed\")  # <--- aggiunto qui\n",
    "\n",
    "    with open(name, \"w\") as f:\n",
    "        json.dump(save_cfg, f)\n",
    "    return save_cfg"
   ]
  },
  {
   "cell_type": "code",
   "execution_count": 25,
   "id": "7d2aa30c",
   "metadata": {},
   "outputs": [],
   "source": [
    "def load_solution(name=\"solution.json\"):\n",
    "    with open(name, \"r\") as f:\n",
    "        cfg = json.load(f)\n",
    "    cfg[\"robot\"] = np.array(cfg[\"robot\"])\n",
    "    cfg[\"genes\"] = np.array(cfg[\"genes\"])\n",
    "    a = Agent(Network, cfg, genes=cfg[\"genes\"])\n",
    "    a.fitness = cfg[\"fitness\"]\n",
    "    return a"
   ]
  },
  {
   "cell_type": "code",
   "execution_count": 32,
   "id": "90c95d73",
   "metadata": {},
   "outputs": [],
   "source": [
    "def prepare_agent_and_cfg(env_name, robot, base_cfg):\n",
    "    env = EvoGymEnv(env_name, robot)\n",
    "    n_in = env.observation_space.shape[0]\n",
    "    n_out = env.action_space.shape[0]\n",
    "    env.close()\n",
    "    \n",
    "    # Update config\n",
    "    cfg = {**base_cfg}\n",
    "    cfg[\"n_in\"] = n_in\n",
    "    cfg[\"n_out\"] = n_out\n",
    "    cfg[\"h_size\"] = base_cfg.get(\"h_size\", 32)  # default fallback\n",
    "    \n",
    "    # Create agent with matching genome size\n",
    "    agent = Agent(Network, cfg)\n",
    "    genome = agent.genes.copy()  # safe initial genome\n",
    "    \n",
    "    return cfg, genome"
   ]
  },
  {
   "cell_type": "code",
   "execution_count": 27,
   "id": "86b35224",
   "metadata": {},
   "outputs": [],
   "source": [
    "@ray.remote\n",
    "def evaluate_remote(env_name, robot, base_cfg, genes, max_steps):\n",
    "    import gymnasium as gym\n",
    "    import evogym.envs\n",
    "\n",
    "    class EvoGymEnv:\n",
    "        def __init__(self, env_name, robot):\n",
    "            self.env = gym.make(env_name, body=robot)\n",
    "            self.env_name = env_name\n",
    "            self.robot = robot\n",
    "            self.action_space = self.env.action_space\n",
    "            self.observation_space = self.env.observation_space\n",
    "\n",
    "        def reset(self):\n",
    "            return self.env.reset()\n",
    "\n",
    "        def step(self, action):\n",
    "            obs, reward, done, trunc, info = self.env.step(action)\n",
    "            return obs, reward, done, trunc, info\n",
    "\n",
    "        def close(self):\n",
    "            self.env.close()\n",
    "\n",
    "    # Prepare fresh agent + cfg with correct size\n",
    "    cfg, _ = prepare_agent_and_cfg(env_name, robot, base_cfg)\n",
    "\n",
    "    agent = Agent(Network, cfg, genes=genes)\n",
    "    env = EvoGymEnv(env_name, robot)\n",
    "    obs, _ = env.reset()\n",
    "    done = False\n",
    "    total_reward = 0\n",
    "    steps = 0\n",
    "\n",
    "    while not done and steps < max_steps:\n",
    "        action = agent.act(obs)\n",
    "        obs, reward, done, trunc, info = env.step(action)\n",
    "        total_reward += reward\n",
    "        steps += 1\n",
    "        if done or trunc:\n",
    "            break\n",
    "\n",
    "    env.close()\n",
    "    return total_reward"
   ]
  },
  {
   "cell_type": "code",
   "execution_count": 45,
   "id": "2fed08b7",
   "metadata": {},
   "outputs": [],
   "source": [
    "import random\n",
    "\n",
    "def set_seed_in_config(config):\n",
    "    if \"seed\" not in config or config[\"seed\"] is None:\n",
    "        config[\"seed\"] = random.randint(0, 10_000)\n",
    "        print(f\"⚠ Nessun seed fornito, generato seed random: {config['seed']}\")\n",
    "    else:\n",
    "        print(f\"✅ Usando seed definito: {config['seed']}\")\n",
    "\n",
    "    # Set Python, NumPy, Torch seeds\n",
    "    random.seed(config[\"seed\"])\n",
    "    np.random.seed(config[\"seed\"])\n",
    "    torch.manual_seed(config[\"seed\"])\n",
    "    if torch.cuda.is_available():\n",
    "        torch.cuda.manual_seed_all(config[\"seed\"])\n",
    "\n",
    "    return config"
   ]
  },
  {
   "cell_type": "markdown",
   "id": "520ebb59",
   "metadata": {},
   "source": [
    "## Algorithms"
   ]
  },
  {
   "cell_type": "markdown",
   "id": "9328b014",
   "metadata": {},
   "source": [
    "### Evolution Strategy"
   ]
  },
  {
   "cell_type": "code",
   "execution_count": 46,
   "id": "9f6ff4e2",
   "metadata": {},
   "outputs": [],
   "source": [
    "def CMA_ME(config):\n",
    "    # Prepara configurazione e genome coerenti\n",
    "    config = set_seed_in_config(config)\n",
    "    cfg, genome = prepare_agent_and_cfg(config[\"env_name\"], config[\"robot\"], config)\n",
    "    dim = len(genome)\n",
    "\n",
    "    # Archive setup\n",
    "    archive = GridArchive(\n",
    "        solution_dim=dim,\n",
    "        dims=[50, 50],\n",
    "        ranges=[(0, 10), (0, 2)],\n",
    "        qd_score_offset=-100\n",
    "    )\n",
    "\n",
    "    emitters = [\n",
    "        EvolutionStrategyEmitter(\n",
    "            archive,\n",
    "            x0=np.zeros(dim),\n",
    "            sigma0=1.0,\n",
    "            ranker=\"2imp\",\n",
    "            batch_size=cfg[\"lambda\"]\n",
    "        )\n",
    "        for _ in range(5)\n",
    "    ]\n",
    "\n",
    "    scheduler = Scheduler(archive, emitters)\n",
    "\n",
    "    best_fitness = -np.inf\n",
    "    best_solution = None\n",
    "\n",
    "    fits = []\n",
    "    total_evals = []\n",
    "\n",
    "    bar = tqdm(range(cfg[\"generations\"]))\n",
    "    for gen in bar:\n",
    "        solutions = scheduler.ask()\n",
    "\n",
    "        # Launch parallel tasks\n",
    "        tasks = []\n",
    "        for sol in solutions:\n",
    "            # Per ogni soluzione, aggiorna cfg coerente\n",
    "            cfg_updated, _ = prepare_agent_and_cfg(cfg[\"env_name\"], cfg[\"robot\"], cfg)\n",
    "            tasks.append(\n",
    "                evaluate_remote.remote(\n",
    "                    cfg_updated[\"env_name\"], cfg_updated[\"robot\"],\n",
    "                    cfg_updated, sol, cfg_updated[\"max_steps\"]\n",
    "                )\n",
    "            )\n",
    "        \n",
    "        fitnesses = ray.get(tasks)\n",
    "\n",
    "        objectives = []\n",
    "        measures = []\n",
    "\n",
    "        for sol, fitness in zip(solutions, fitnesses):\n",
    "            behavior_x = np.mean(sol[:dim // 2])\n",
    "            behavior_y = np.mean(sol[dim // 2:])\n",
    "            objectives.append(fitness)\n",
    "            measures.append([behavior_x, behavior_y])\n",
    "\n",
    "            if fitness > best_fitness:\n",
    "                best_fitness = fitness\n",
    "                best_solution = sol\n",
    "\n",
    "        scheduler.tell(objectives, measures)\n",
    "\n",
    "        fits.append(best_fitness)\n",
    "        total_evals.append(len(solutions) * (gen + 1))\n",
    "        bar.set_description(f\"Best: {best_fitness}\")\n",
    "\n",
    "    plt.plot(total_evals, fits)\n",
    "    plt.xlabel(\"Evaluations\")\n",
    "    plt.ylabel(\"Fitness\")\n",
    "    plt.show()\n",
    "\n",
    "    # Final best agent with updated cfg\n",
    "    final_cfg, _ = prepare_agent_and_cfg(cfg[\"env_name\"], cfg[\"robot\"], cfg)\n",
    "    best_agent = Agent(Network, final_cfg, genes=best_solution)\n",
    "    best_agent.fitness = best_fitness\n",
    "\n",
    "    final_cfg[\"algorithm\"] = \"CMA_ME\"\n",
    "    save_solution(best_agent, final_cfg, name=\"solution.json\")\n",
    "\n",
    "    return best_agent"
   ]
  },
  {
   "cell_type": "code",
   "execution_count": null,
   "id": "3f3a8309",
   "metadata": {},
   "outputs": [
    {
     "name": "stderr",
     "output_type": "stream",
     "text": [
      "  0%|          | 0/1 [00:00<?, ?it/s]2025-05-05 10:28:43,093\tINFO worker.py:1888 -- Started a local Ray instance.\n"
     ]
    },
    {
     "name": "stdout",
     "output_type": "stream",
     "text": [
      "\u001b[36m(evaluate_remote pid=20921)\u001b[0m Using Evolution Gym Simulator v2.2.5\n"
     ]
    },
    {
     "name": "stderr",
     "output_type": "stream",
     "text": [
      "Best: 0.1339287694172755: 100%|██████████| 1/1 [00:07<00:00,  7.34s/it]\n"
     ]
    },
    {
     "data": {
      "image/png": "[encoded data removed]",
      "text/plain": [
       "<Figure size 640x480 with 1 Axes>"
      ]
     },
     "metadata": {},
     "output_type": "display_data"
    },
    {
     "name": "stdout",
     "output_type": "stream",
     "text": [
      "✅ Best agent fitness: 0.1339287694172755\n"
     ]
    },
    {
     "name": "stderr",
     "output_type": "stream",
     "text": [
      "\u001b[36m(evaluate_remote pid=20921)\u001b[0m /Users/massimodebellisvitti/Desktop/Algorithme evolutionnaire/evolution/.venv/lib/python3.10/site-packages/gymnasium/envs/registration.py:527: UserWarning: \u001b[33mWARN: Using the latest versioned environment `Climber-v2` instead of the unversioned environment `Climber`.\u001b[0m\n",
      "\u001b[36m(evaluate_remote pid=20921)\u001b[0m   logger.warn(\n"
     ]
    }
   ],
   "source": [
    "import json\n",
    "\n",
    "walker = np.array([\n",
    "    [0, 0, 0, 0, 0 ],\n",
    "    [0, 3, 3, 3, 0],\n",
    "    [0, 3, 3, 3, 0],\n",
    "    [3, 3, 3, 4, 4],\n",
    "    [3, 3, 0, 4, 3]\n",
    "    ])\n",
    "\n",
    "\n",
    "config = {\n",
    "    \"env_name\": \"Walker-v0\",\n",
    "    \"robot\": walker,\n",
    "    \"generations\": 1, # to change: increase!\n",
    "    \"lambda\": 10, # Population size\n",
    "    \"max_steps\": 100, # to change to 500\n",
    "    \"seed\": None\n",
    "}\n",
    "\n",
    "# Run the parallelized CMA-ME\n",
    "best_agent = CMA_ME(config)\n",
    "print(f\"✅ Best agent fitness: {best_agent.fitness}\")"
   ]
  },
  {
   "cell_type": "code",
   "execution_count": null,
   "id": "a1617183",
   "metadata": {},
   "outputs": [
    {
     "name": "stderr",
     "output_type": "stream",
     "text": [
      "Best: 0.8499969571230563: 100%|██████████| 1/1 [00:32<00:00, 32.60s/it]\n"
     ]
    },
    {
     "data": {
      "image/png": "[encoded data removed]",
      "text/plain": [
       "<Figure size 640x480 with 1 Axes>"
      ]
     },
     "metadata": {},
     "output_type": "display_data"
    },
    {
     "name": "stdout",
     "output_type": "stream",
     "text": [
      "✅ Best agent fitness: 0.8499969571230563\n"
     ]
    }
   ],
   "source": [
    "import json\n",
    "# Define your walker robot\n",
    "thrower = np.array([\n",
    "    [0, 0, 1, 0, 0 ],\n",
    "    [0, 0, 1, 0, 0],\n",
    "    [0, 4, 3, 4, 2],\n",
    "    [4, 3, 0, 4, 2],\n",
    "    [5, 5, 5, 5, 0]\n",
    "    ])\n",
    "\n",
    "\n",
    "config = {\n",
    "    \"env_name\": \"Thrower-v0\",\n",
    "    \"robot\": thrower,\n",
    "    \"generations\": 1, # to change: increase!\n",
    "    \"lambda\":10, # Population size\n",
    "    \"max_steps\": 500, # to change to 500\n",
    "    \"seed\": None\n",
    "}\n",
    "\n",
    "# Run the parallelized CMA-ME\n",
    "best_agent = CMA_ME(config)\n",
    "print(f\"✅ Best agent fitness: {best_agent.fitness}\")"
   ]
  },
  {
   "cell_type": "code",
   "execution_count": 54,
   "id": "c16245cf",
   "metadata": {},
   "outputs": [
    {
     "name": "stdout",
     "output_type": "stream",
     "text": [
      "⚠ Nessun seed fornito, generato seed random: 3200\n"
     ]
    },
    {
     "name": "stderr",
     "output_type": "stream",
     "text": [
      "Best: 0.09971760079360692: 100%|██████████| 1/1 [00:06<00:00,  6.68s/it]\n"
     ]
    },
    {
     "data": {
      "image/png": "[encoded data removed]",
      "text/plain": [
       "<Figure size 640x480 with 1 Axes>"
      ]
     },
     "metadata": {},
     "output_type": "display_data"
    },
    {
     "name": "stdout",
     "output_type": "stream",
     "text": [
      "✅ Best agent fitness: 0.09971760079360692\n"
     ]
    }
   ],
   "source": [
    "import json\n",
    "# Define your walker robot\n",
    "climber = np.array([\n",
    "    [3, 3, 3, 3, 3 ],\n",
    "    [0, 4, 3, 4, 0],\n",
    "    [3, 4, 3, 4, 3],\n",
    "    [0, 4, 3, 4, 0],\n",
    "    [3, 3, 3, 3, 3]\n",
    "    ])\n",
    "\n",
    "\n",
    "config = {\n",
    "    \"env_name\": \"Climber\",\n",
    "    \"robot\": climber,\n",
    "    \"generations\": 1, # to change: increase!\n",
    "    \"lambda\":20, # Population size\n",
    "    \"max_steps\": 100, # to change to 500\n",
    "    \"seed\": None\n",
    "}\n",
    "\n",
    "# Run the parallelized CMA-ME\n",
    "best_agent = CMA_ME(config)\n",
    "print(f\"✅ Best agent fitness: {best_agent.fitness}\")"
   ]
  }
 ],
 "metadata": {
  "kernelspec": {
   "display_name": ".venv",
   "language": "python",
   "name": "python3"
  },
  "language_info": {
   "codemirror_mode": {
    "name": "ipython",
    "version": 3
   },
   "file_extension": ".py",
   "mimetype": "text/x-python",
   "name": "python",
   "nbconvert_exporter": "python",
   "pygments_lexer": "ipython3",
   "version": "3.10.17"
  }
 },
 "nbformat": 4,
 "nbformat_minor": 5
}

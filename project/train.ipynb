{
 "cells": [
  {
   "cell_type": "markdown",
   "id": "235cf4fb",
   "metadata": {},
   "source": [
    "# Neuroevolution on EvoGym"
   ]
  },
  {
   "cell_type": "markdown",
   "id": "469af5cc",
   "metadata": {},
   "source": [
    "## Getting started"
   ]
  },
  {
   "cell_type": "markdown",
   "id": "1c9d5f95",
   "metadata": {},
   "source": [
    "Check that the following line can run. If so, you have evogym installed! Otherwise, you need to install it."
   ]
  },
  {
   "cell_type": "code",
   "execution_count": 1,
   "id": "d86d1d81",
   "metadata": {},
   "outputs": [
    {
     "name": "stderr",
     "output_type": "stream",
     "text": [
      "/Users/massimodebellisvitti/Desktop/Algorithme evolutionnaire/evolution/.venv/lib/python3.10/site-packages/tqdm/auto.py:21: TqdmWarning: IProgress not found. Please update jupyter and ipywidgets. See https://ipywidgets.readthedocs.io/en/stable/user_install.html\n",
      "  from .autonotebook import tqdm as notebook_tqdm\n",
      "2025-05-05 11:57:34,791\tINFO util.py:154 -- Missing packages: ['ipywidgets']. Run `pip install -U ipywidgets`, then restart the notebook server for rich notebook output.\n"
     ]
    }
   ],
   "source": [
    "from evogym import sample_robot\n",
    "import torch\n",
    "import torch.nn as nn\n",
    "import torch.nn.functional as F\n",
    "import numpy as np\n",
    "import copy\n",
    "import matplotlib.pyplot as plt\n",
    "from matplotlib import animation\n",
    "import gymnasium as gym\n",
    "import evogym.envs\n",
    "from evogym import sample_robot\n",
    "from evogym.utils import get_full_connectivity\n",
    "from tqdm import tqdm\n",
    "import ray\n",
    "import numpy as np\n",
    "import matplotlib.pyplot as plt\n",
    "from tqdm import tqdm\n",
    "\n",
    "from ribs.archives import GridArchive\n",
    "from ribs.emitters import EvolutionStrategyEmitter\n",
    "from ribs.schedulers import Scheduler"
   ]
  },
  {
   "cell_type": "code",
   "execution_count": null,
   "id": "cdce9277",
   "metadata": {},
   "outputs": [],
   "source": []
  },
  {
   "cell_type": "markdown",
   "id": "3ff4f241",
   "metadata": {},
   "source": [
    "## Agent"
   ]
  },
  {
   "cell_type": "code",
   "execution_count": 2,
   "id": "4d181941",
   "metadata": {},
   "outputs": [],
   "source": [
    "class Network(nn.Module):\n",
    "    def __init__(self, n_in, h_size, n_out):\n",
    "        super().__init__()\n",
    "        self.fc1 = nn.Linear(n_in, h_size)\n",
    "        self.fc2 = nn.Linear(h_size, h_size)\n",
    "        self.fc3 = nn.Linear(h_size, n_out)\n",
    " \n",
    "        self.n_out = n_out\n",
    "\n",
    "    def reset(self):\n",
    "        pass\n",
    "    \n",
    "    def forward(self, x):\n",
    "        x = self.fc1(x)\n",
    "        x = F.relu(x)\n",
    "\n",
    "        x = self.fc2(x)\n",
    "        x = F.relu(x)\n",
    "\n",
    "        x = self.fc3(x)\n",
    "        return x"
   ]
  },
  {
   "cell_type": "code",
   "execution_count": 3,
   "id": "af1b5a47",
   "metadata": {},
   "outputs": [],
   "source": [
    "class Agent:\n",
    "    def __init__(self, Net, config, genes = None):\n",
    "        self.config = config\n",
    "        self.Net = Net\n",
    "        self.model = None\n",
    "        self.fitness = None\n",
    "\n",
    "        self.device = torch.device(\n",
    "            \"cuda\" if torch.cuda.is_available() else \"cpu\")\n",
    "\n",
    "        self.make_network()\n",
    "        if genes is not None:\n",
    "            self.genes = genes\n",
    "\n",
    "    def __repr__(self):  # pragma: no cover\n",
    "        return f\"Agent {self.model} > fitness={self.fitness}\"\n",
    "\n",
    "    def __str__(self):  # pragma: no cover\n",
    "        return self.__repr__()\n",
    "\n",
    "    def make_network(self):\n",
    "        n_in = self.config[\"n_in\"]\n",
    "        h_size = self.config[\"h_size\"]\n",
    "        n_out = self.config[\"n_out\"]\n",
    "        self.model = self.Net(n_in, h_size, n_out).to(self.device).double()\n",
    "        return self\n",
    "\n",
    "    @property\n",
    "    def genes(self):\n",
    "        if self.model is None:\n",
    "            return None\n",
    "        with torch.no_grad():\n",
    "            params = self.model.parameters()\n",
    "            vec = torch.nn.utils.parameters_to_vector(params)\n",
    "        return vec.cpu().double().numpy()\n",
    "\n",
    "    @genes.setter\n",
    "    def genes(self, params):\n",
    "        if self.model is None:\n",
    "            self.make_network()\n",
    "        assert len(params) == len(\n",
    "            self.genes), \"Genome size does not fit the network size\"\n",
    "        if np.isnan(params).any():\n",
    "            raise\n",
    "        a = torch.tensor(params, device=self.device)\n",
    "        torch.nn.utils.vector_to_parameters(a, self.model.parameters())\n",
    "        self.model = self.model.to(self.device).double()\n",
    "        self.fitness = None\n",
    "        return self\n",
    "\n",
    "    def mutate_ga(self):\n",
    "        genes = self.genes\n",
    "        n = len(genes)\n",
    "        f = np.random.choice([False, True], size=n, p=[1/n, 1-1/n])\n",
    "        \n",
    "        new_genes = np.empty(n)\n",
    "        new_genes[f] = genes[f]\n",
    "        noise = np.random.randn(n-sum(f))\n",
    "        new_genes[~f] = noise\n",
    "        return new_genes\n",
    "\n",
    "    def act(self, obs):\n",
    "        # continuous actions\n",
    "        with torch.no_grad():\n",
    "            x = torch.tensor(obs).double().unsqueeze(0).to(self.device)\n",
    "            actions = self.model(x).cpu().detach().numpy()\n",
    "        return actions\n"
   ]
  },
  {
   "cell_type": "markdown",
   "id": "aa190a7e",
   "metadata": {},
   "source": [
    "## Environment"
   ]
  },
  {
   "cell_type": "code",
   "execution_count": 4,
   "id": "f41abcb5",
   "metadata": {},
   "outputs": [],
   "source": [
    "def make_env(env_name, seed=None, robot=None, **kwargs):\n",
    "    if robot is None: \n",
    "        env = gym.make(env_name)\n",
    "    else:\n",
    "        connections = get_full_connectivity(robot)\n",
    "        env = gym.make(env_name, body=robot)\n",
    "    env.robot = robot\n",
    "    if seed is not None:\n",
    "        env.seed(seed)\n",
    "        \n",
    "    return env"
   ]
  },
  {
   "cell_type": "code",
   "execution_count": 5,
   "id": "bff74100",
   "metadata": {},
   "outputs": [],
   "source": [
    "def evaluate(agent, env, max_steps=500, render=False):\n",
    "    obs, i = env.reset()\n",
    "    agent.model.reset()\n",
    "    reward = 0\n",
    "    steps = 0\n",
    "    done = False\n",
    "    while not done and steps < max_steps:\n",
    "        if render:\n",
    "            env.render()\n",
    "        action = agent.act(obs)\n",
    "        obs, r, done, trunc, _ = env.step(action)\n",
    "        reward += r\n",
    "        steps += 1\n",
    "    return reward"
   ]
  },
  {
   "cell_type": "code",
   "execution_count": 6,
   "id": "a94027cf",
   "metadata": {},
   "outputs": [],
   "source": [
    "def get_cfg(env_name, robot=None):\n",
    "    env = make_env(env_name, robot=robot)\n",
    "    n_in = env.observation_space.shape[0]\n",
    "    n_out = env.action_space.shape[0]  # usa direttamente l’action space dell’ambiente\n",
    "    env.close()\n",
    "    \n",
    "    return {\n",
    "        \"n_in\": n_in,\n",
    "        \"h_size\": 32,\n",
    "        \"n_out\": n_out,\n",
    "    }"
   ]
  },
  {
   "cell_type": "code",
   "execution_count": 7,
   "id": "e26a7c9c",
   "metadata": {},
   "outputs": [],
   "source": [
    "def mp_eval(a, cfg):\n",
    "    env = make_env(cfg[\"env_name\"], robot=cfg[\"robot\"])\n",
    "    fit = evaluate(a, env, max_steps=cfg[\"max_steps\"])\n",
    "    env.close()\n",
    "    return fit"
   ]
  },
  {
   "cell_type": "code",
   "execution_count": 8,
   "id": "a641519f",
   "metadata": {},
   "outputs": [],
   "source": [
    "def save_solution(a, cfg, name=\"solution.json\", algo_name=None):\n",
    "    save_cfg = {}\n",
    "    for key in [\"env_name\", \"n_in\", \"h_size\", \"n_out\"]:\n",
    "        save_cfg[key] = str(cfg[key])  # salva come stringa per sicurezza\n",
    "    save_cfg[\"robot\"] = np.array(cfg[\"robot\"]).tolist()\n",
    "    save_cfg[\"genes\"] = a.genes.astype(float).tolist()\n",
    "    save_cfg[\"fitness\"] = float(a.fitness)\n",
    "    \n",
    "    save_cfg[\"generations\"] = int(cfg.get(\"generations\", 0))\n",
    "    save_cfg[\"max_steps\"] = int(cfg.get(\"max_steps\", 0))\n",
    "    save_cfg[\"lambda\"] = int(cfg.get(\"lambda\", 0))\n",
    "    save_cfg[\"algorithm\"] = str(cfg.get(\"algorithm\", \"Unknown\"))\n",
    "    save_cfg[\"seed\"] = cfg.get(\"seed\")\n",
    "\n",
    "    with open(name, \"w\") as f:\n",
    "        json.dump(save_cfg, f)\n",
    "    return save_cfg"
   ]
  },
  {
   "cell_type": "code",
   "execution_count": 9,
   "id": "d4f50d0b",
   "metadata": {},
   "outputs": [],
   "source": [
    "def load_solution(name=\"solution.json\"):\n",
    "    with open(name, \"r\") as f:\n",
    "        cfg = json.load(f)\n",
    "    cfg[\"robot\"] = np.array(cfg[\"robot\"])\n",
    "    cfg[\"genes\"] = np.array(cfg[\"genes\"])\n",
    "    a = Agent(Network, cfg, genes=cfg[\"genes\"])\n",
    "    a.fitness = cfg[\"fitness\"]\n",
    "    return a"
   ]
  },
  {
   "cell_type": "code",
   "execution_count": 10,
   "id": "efd214b3",
   "metadata": {},
   "outputs": [],
   "source": [
    "import ray\n",
    "@ray.remote\n",
    "def evaluate_remote(env_name, robot, base_cfg, genes, max_steps):\n",
    "    import gymnasium as gym\n",
    "    import evogym.envs\n",
    "    from evogym.utils import get_full_connectivity\n",
    "\n",
    "    def make_env(env_name, seed=None, robot=None, **kwargs):\n",
    "        if robot is None:\n",
    "            env = gym.make(env_name)\n",
    "        else:\n",
    "            connections = get_full_connectivity(robot)\n",
    "            env = gym.make(env_name, body=robot)\n",
    "        env.robot = robot\n",
    "        if seed is not None:\n",
    "            env.seed(seed)\n",
    "        return env\n",
    "\n",
    "    # Prepariamo il cfg aggiornato e coerente\n",
    "    cfg, _ = prepare_agent_and_cfg(env_name, robot, base_cfg)\n",
    "    agent = Agent(Network, cfg, genes=genes)\n",
    "    env = make_env(env_name, robot=robot)\n",
    "    \n",
    "    obs, _ = env.reset()\n",
    "    done = False\n",
    "    total_reward = 0\n",
    "    steps = 0\n",
    "\n",
    "    while not done and steps < max_steps:\n",
    "        action = agent.act(obs)\n",
    "        obs, reward, done, trunc, info = env.step(action)\n",
    "        total_reward += reward\n",
    "        steps += 1\n",
    "        if done or trunc:\n",
    "            break\n",
    "\n",
    "    env.close()\n",
    "    return total_reward"
   ]
  },
  {
   "cell_type": "code",
   "execution_count": 11,
   "id": "7da03697",
   "metadata": {},
   "outputs": [],
   "source": [
    "def prepare_agent_and_cfg(env_name, robot, base_cfg):\n",
    "    # usa make_env invece di EvoGymEnv (che Ray non vede sempre)\n",
    "    env = make_env(env_name, robot=robot)\n",
    "    n_in = env.observation_space.shape[0]\n",
    "    n_out = env.action_space.shape[0]\n",
    "    env.close()\n",
    "    \n",
    "    cfg = {**base_cfg}\n",
    "    cfg[\"n_in\"] = n_in\n",
    "    cfg[\"n_out\"] = n_out\n",
    "    cfg[\"h_size\"] = base_cfg.get(\"h_size\", 32)\n",
    "    \n",
    "    agent = Agent(Network, cfg)\n",
    "    genome = agent.genes.copy()\n",
    "    \n",
    "    return cfg, genome"
   ]
  },
  {
   "cell_type": "code",
   "execution_count": 12,
   "id": "1097977f",
   "metadata": {},
   "outputs": [],
   "source": [
    "import random\n",
    "\n",
    "def set_seed_in_config(config):\n",
    "    if \"seed\" not in config or config[\"seed\"] is None:\n",
    "        config[\"seed\"] = random.randint(0, 10_000)\n",
    "        print(f\"⚠ Nessun seed fornito, generato seed random: {config['seed']}\")\n",
    "    else:\n",
    "        print(f\"✅ Usando seed definito: {config['seed']}\")\n",
    "\n",
    "    # Set Python, NumPy, Torch seeds\n",
    "    random.seed(config[\"seed\"])\n",
    "    np.random.seed(config[\"seed\"])\n",
    "    torch.manual_seed(config[\"seed\"])\n",
    "    if torch.cuda.is_available():\n",
    "        torch.cuda.manual_seed_all(config[\"seed\"])\n",
    "\n",
    "    return config"
   ]
  },
  {
   "cell_type": "markdown",
   "id": "6e638a7c",
   "metadata": {},
   "source": [
    "## Algorithms"
   ]
  },
  {
   "cell_type": "markdown",
   "id": "a7103333",
   "metadata": {},
   "source": [
    "### Evolution Strategy"
   ]
  },
  {
   "cell_type": "code",
   "execution_count": 13,
   "id": "28058559",
   "metadata": {},
   "outputs": [],
   "source": [
    "def CMA_ME(config):\n",
    "    config = set_seed_in_config(config)\n",
    "    cfg = get_cfg(config[\"env_name\"], robot=config[\"robot\"])\n",
    "    cfg = {**config, **cfg}\n",
    "    \n",
    "    # Debug info\n",
    "    env_check = make_env(cfg[\"env_name\"], robot=cfg[\"robot\"])\n",
    "    print(f\"✅ ENV '{cfg['env_name']}' | Observation dim: {cfg['n_in']} | \"\n",
    "          f\"Action dim (network): {cfg['n_out']} | \"\n",
    "          f\"Action dim (env): {env_check.action_space.shape[0]}\")\n",
    "    assert cfg['n_out'] == env_check.action_space.shape[0], \\\n",
    "        f\"Mismatch: network n_out {cfg['n_out']} vs env action space {env_check.action_space.shape[0]}\"\n",
    "    env_check.close()\n",
    "    \n",
    "    dim = len(Agent(Network, cfg).genes)\n",
    "\n",
    "    # Archive setup\n",
    "    archive = GridArchive(\n",
    "        solution_dim=dim,\n",
    "        dims=[50, 50],\n",
    "        ranges=[(0, 10), (0, 2)],\n",
    "        qd_score_offset=-100\n",
    "    )\n",
    "\n",
    "    emitters = [\n",
    "        EvolutionStrategyEmitter(\n",
    "            archive,\n",
    "            x0=np.zeros(dim),\n",
    "            sigma0=1.0,\n",
    "            ranker=\"2imp\",\n",
    "            batch_size=cfg[\"lambda\"]\n",
    "        )\n",
    "        for _ in range(5)\n",
    "    ]\n",
    "\n",
    "    scheduler = Scheduler(archive, emitters)\n",
    "\n",
    "    best_fitness = -np.inf\n",
    "    best_solution = None\n",
    "\n",
    "    fits = []\n",
    "    total_evals = []\n",
    "\n",
    "    bar = tqdm(range(cfg[\"generations\"]))\n",
    "    for gen in bar:\n",
    "        solutions = scheduler.ask()\n",
    "\n",
    "        tasks = [\n",
    "            evaluate_remote.remote(\n",
    "                cfg[\"env_name\"], cfg[\"robot\"], cfg, sol, cfg[\"max_steps\"]\n",
    "            )\n",
    "            for sol in solutions\n",
    "        ]\n",
    "        fitnesses = ray.get(tasks)\n",
    "\n",
    "        objectives = []\n",
    "        measures = []\n",
    "\n",
    "        for sol, fitness in zip(solutions, fitnesses):\n",
    "            behavior_x = np.mean(sol[:dim // 2])\n",
    "            behavior_y = np.mean(sol[dim // 2:])\n",
    "            objectives.append(fitness)\n",
    "            measures.append([behavior_x, behavior_y])\n",
    "\n",
    "            if fitness > best_fitness:\n",
    "                best_fitness = fitness\n",
    "                best_solution = sol\n",
    "\n",
    "        scheduler.tell(objectives, measures)\n",
    "\n",
    "        fits.append(best_fitness)\n",
    "        total_evals.append(len(solutions) * (gen + 1))\n",
    "        bar.set_description(f\"Best: {best_fitness}\")\n",
    "\n",
    "    plt.plot(total_evals, fits)\n",
    "    plt.xlabel(\"Evaluations\")\n",
    "    plt.ylabel(\"Fitness\")\n",
    "    plt.show()\n",
    "\n",
    "    best_agent = Agent(Network, cfg, genes=best_solution)\n",
    "    best_agent.fitness = best_fitness\n",
    "\n",
    "    cfg[\"algorithm\"] = \"CMA_ME\"\n",
    "    save_solution(best_agent, cfg, name=\"solution.json\")\n",
    "\n",
    "    return best_agent"
   ]
  },
  {
   "cell_type": "code",
   "execution_count": 14,
   "id": "6b8af969",
   "metadata": {},
   "outputs": [
    {
     "name": "stdout",
     "output_type": "stream",
     "text": [
      "⚠ Nessun seed fornito, generato seed random: 7379\n",
      "Using Evolution Gym Simulator v2.2.5\n",
      "✅ ENV 'Walker-v0' | Observation dim: 54 | Action dim (network): 15 | Action dim (env): 15\n"
     ]
    },
    {
     "name": "stderr",
     "output_type": "stream",
     "text": [
      "  0%|          | 0/2 [00:00<?, ?it/s]2025-05-05 11:57:40,197\tINFO worker.py:1888 -- Started a local Ray instance.\n"
     ]
    },
    {
     "name": "stdout",
     "output_type": "stream",
     "text": [
      "\u001b[36m(evaluate_remote pid=23679)\u001b[0m Using Evolution Gym Simulator v2.2.5\n"
     ]
    },
    {
     "name": "stderr",
     "output_type": "stream",
     "text": [
      "Best: 0.3240529792064097: 100%|██████████| 2/2 [00:23<00:00, 11.93s/it] \n"
     ]
    },
    {
     "data": {
      "image/png": "[encoded data removed]",
      "text/plain": [
       "<Figure size 640x480 with 1 Axes>"
      ]
     },
     "metadata": {},
     "output_type": "display_data"
    },
    {
     "name": "stdout",
     "output_type": "stream",
     "text": [
      "✅ Best agent fitness: 0.3240529792064097\n"
     ]
    },
    {
     "name": "stderr",
     "output_type": "stream",
     "text": [
      "\u001b[36m(evaluate_remote pid=23676)\u001b[0m /Users/massimodebellisvitti/Desktop/Algorithme evolutionnaire/evolution/.venv/lib/python3.10/site-packages/gymnasium/envs/registration.py:527: UserWarning: \u001b[33mWARN: Using the latest versioned environment `Climber-v2` instead of the unversioned environment `Climber`.\u001b[0m\n",
      "\u001b[36m(evaluate_remote pid=23676)\u001b[0m   logger.warn(\n"
     ]
    }
   ],
   "source": [
    "import json\n",
    "walker = np.array([\n",
    "    [0, 0, 0, 0, 0 ],\n",
    "    [0, 3, 3, 3, 0],\n",
    "    [0, 3, 3, 3, 0],\n",
    "    [3, 3, 3, 4, 4],\n",
    "    [3, 3, 0, 4, 3]\n",
    "    ])\n",
    "\n",
    "\n",
    "config = {\n",
    "    \"env_name\": \"Walker-v0\",\n",
    "    \"robot\": walker,\n",
    "    \"generations\": 2, # to change: increase!\n",
    "    \"lambda\": 10, # to change: increase!\n",
    "    \"max_steps\": 100, # to change to 500\n",
    "    \"seed\": None\n",
    "}\n",
    "\n",
    "# Run the parallelized CMA-ME\n",
    "best_agent = CMA_ME(config)\n",
    "print(f\"✅ Best agent fitness: {best_agent.fitness}\")"
   ]
  },
  {
   "cell_type": "code",
   "execution_count": 15,
   "id": "1e69d7a2",
   "metadata": {},
   "outputs": [
    {
     "name": "stdout",
     "output_type": "stream",
     "text": [
      "⚠ Nessun seed fornito, generato seed random: 3370\n",
      "✅ ENV 'Thrower-v0' | Observation dim: 58 | Action dim (network): 6 | Action dim (env): 6\n"
     ]
    },
    {
     "name": "stderr",
     "output_type": "stream",
     "text": [
      "Best: 0.8269699950837505: 100%|██████████| 2/2 [00:38<00:00, 19.34s/it]\n"
     ]
    },
    {
     "data": {
      "image/png": "[encoded data removed]",
      "text/plain": [
       "<Figure size 640x480 with 1 Axes>"
      ]
     },
     "metadata": {},
     "output_type": "display_data"
    },
    {
     "name": "stdout",
     "output_type": "stream",
     "text": [
      "✅ Best agent fitness: 0.8269699950837505\n"
     ]
    }
   ],
   "source": [
    "import json\n",
    "# Define your walker robot\n",
    "thrower = np.array([\n",
    "    [0, 0, 1, 0, 0 ],\n",
    "    [0, 0, 1, 0, 0],\n",
    "    [0, 4, 3, 4, 2],\n",
    "    [4, 3, 0, 4, 2],\n",
    "    [5, 5, 5, 5, 0]\n",
    "    ])\n",
    "\n",
    "\n",
    "config = {\n",
    "    \"env_name\": \"Thrower-v0\",\n",
    "    \"robot\": thrower,\n",
    "    \"generations\": 2, # to change: increase!\n",
    "    \"lambda\":10, # Population size\n",
    "    \"max_steps\": 500, # to change to 500\n",
    "    \"seed\": None\n",
    "}\n",
    "\n",
    "# Run the parallelized CMA-ME\n",
    "best_agent = CMA_ME(config)\n",
    "print(f\"✅ Best agent fitness: {best_agent.fitness}\")"
   ]
  },
  {
   "cell_type": "code",
   "execution_count": 16,
   "id": "a7ff187a",
   "metadata": {},
   "outputs": [
    {
     "name": "stdout",
     "output_type": "stream",
     "text": [
      "⚠ Nessun seed fornito, generato seed random: 5212\n",
      "✅ ENV 'Climber' | Observation dim: 82 | Action dim (network): 21 | Action dim (env): 21\n"
     ]
    },
    {
     "name": "stderr",
     "output_type": "stream",
     "text": [
      "/Users/massimodebellisvitti/Desktop/Algorithme evolutionnaire/evolution/.venv/lib/python3.10/site-packages/gymnasium/envs/registration.py:527: UserWarning: \u001b[33mWARN: Using the latest versioned environment `Climber-v2` instead of the unversioned environment `Climber`.\u001b[0m\n",
      "  logger.warn(\n",
      "Best: 0.07697390968010102: 100%|██████████| 1/1 [00:36<00:00, 36.26s/it]\n"
     ]
    },
    {
     "data": {
      "image/png": "[encoded data removed]",
      "text/plain": [
       "<Figure size 640x480 with 1 Axes>"
      ]
     },
     "metadata": {},
     "output_type": "display_data"
    },
    {
     "name": "stdout",
     "output_type": "stream",
     "text": [
      "✅ Best agent fitness: 0.07697390968010102\n"
     ]
    }
   ],
   "source": [
    "import json\n",
    "# Define your walker robot\n",
    "climber = np.array([\n",
    "    [3, 3, 3, 3, 3 ],\n",
    "    [0, 4, 3, 4, 0],\n",
    "    [3, 4, 3, 4, 3],\n",
    "    [0, 4, 3, 4, 0],\n",
    "    [3, 3, 3, 3, 3]\n",
    "    ])\n",
    "\n",
    "\n",
    "config = {\n",
    "    \"env_name\": \"Climber\",\n",
    "    \"robot\": climber,\n",
    "    \"generations\": 1, # to change: increase!\n",
    "    \"lambda\":10, # Population size\n",
    "    \"max_steps\": 500, # to change to 500\n",
    "    \"seed\": None\n",
    "}\n",
    "\n",
    "# Run the parallelized CMA-ME\n",
    "best_agent = CMA_ME(config)\n",
    "print(f\"✅ Best agent fitness: {best_agent.fitness}\")"
   ]
  }
 ],
 "metadata": {
  "kernelspec": {
   "display_name": ".venv",
   "language": "python",
   "name": "python3"
  },
  "language_info": {
   "codemirror_mode": {
    "name": "ipython",
    "version": 3
   },
   "file_extension": ".py",
   "mimetype": "text/x-python",
   "name": "python",
   "nbconvert_exporter": "python",
   "pygments_lexer": "ipython3",
   "version": "3.10.17"
  }
 },
 "nbformat": 4,
 "nbformat_minor": 5
}
